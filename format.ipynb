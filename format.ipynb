{
 "cells": [
  {
   "cell_type": "code",
   "execution_count": 1,
   "metadata": {},
   "outputs": [
    {
     "name": "stdout",
     "output_type": "stream",
     "text": [
      "nfl_schedule = {\n",
      "('Ravens', 'Chiefs'),('Packers', 'Eagles'),('Patriots', 'Bengals'),('Texans', 'Colts'),('Steelers', 'Falcons'),('Jaguars', 'Dolphins'),('Vikings', 'Giants'),('Cardinals', 'Bills'),('Panthers', 'Saints'),('Titans', 'Bears'),('Broncos', 'Seahawks'),('Raiders', 'Chargers'),('Commanders', 'Buccaneers'),('Cowboys', 'Browns'),('Rams', 'Lions'),('Jets', '49ers'),\n",
      "('Bills', 'Dolphins'),('Raiders', 'Ravens'),('Chargers', 'Panthers'),('Browns', 'Jaguars'),('Seahawks', 'Patriots'),('Colts', 'Packers'),('49ers', 'Vikings'),('Buccaneers', 'Lions'),('Giants', 'Commanders'),('Saints', 'Cowboys'),('Jets', 'Titans'),('Rams', 'Cardinals'),('Bengals', 'Chiefs'),('Steelers', 'Broncos'),('Bears', 'Texans'),('Falcons', 'Eagles'),\n",
      "('Patriots', 'Jets'),('Packers', 'Titans'),('Eagles', 'Saints'),('Texans', 'Vikings'),('Giants', 'Browns'),('Chargers', 'Steelers'),('Broncos', 'Buccaneers'),('Bears', 'Colts'),('Panthers', 'Raiders'),('Dolphins', 'Seahawks'),('Lions', 'Cardinals'),('Ravens', 'Cowboys'),('49ers', 'Rams'),('Chiefs', 'Falcons'),('Jaguars', 'Bills'),('Commanders', 'Bengals'),\n",
      "('Cowboys', 'Giants'),('Vikings', 'Packers'),('Saints', 'Falcons'),('Bengals', 'Panthers'),('Rams', 'Bears'),('Steelers', 'Colts'),('Broncos', 'Jets'),('Jaguars', 'Texans'),('Eagles', 'Buccaneers'),('Commanders', 'Cardinals'),('Patriots', '49ers'),('Browns', 'Raiders'),('Chiefs', 'Chargers'),('Bills', 'Ravens'),('Titans', 'Dolphins'),('Seahawks', 'Lions'),\n",
      "('Buccaneers', 'Falcons'),('Jets', 'Vikings'),('Bills', 'Texans'),('Dolphins', 'Patriots'),('Browns', 'Commanders'),('Panthers', 'Bears'),('Colts', 'Jaguars'),('Ravens', 'Bengals'),('Cardinals', '49ers'),('Raiders', 'Broncos'),('Packers', 'Rams'),('Giants', 'Seahawks'),('Cowboys', 'Steelers'),('Saints', 'Chiefs'),\n",
      "('49ers', 'Seahawks'),('Jaguars', 'Bears'),('Cardinals', 'Packers'),('Texans', 'Patriots'),('Browns', 'Eagles'),('Colts', 'Titans'),('Commanders', 'Ravens'),('Buccaneers', 'Saints'),('Chargers', 'Broncos'),('Steelers', 'Raiders'),('Falcons', 'Panthers'),('Lions', 'Cowboys'),('Bengals', 'Giants'),('Bills', 'Jets'),\n",
      "('Broncos', 'Saints'),('Patriots', 'Jaguars'),('Eagles', 'Giants'),('Texans', 'Packers'),('Bengals', 'Browns'),('Lions', 'Vikings'),('Dolphins', 'Colts'),('Seahawks', 'Falcons'),('Titans', 'Bills'),('Panthers', 'Commanders'),('Raiders', 'Rams'),('Chiefs', '49ers'),('Jets', 'Steelers'),('Ravens', 'Buccaneers'),('Chargers', 'Cardinals'),\n",
      "('Vikings', 'Rams'),('Falcons', 'Buccaneers'),('Cardinals', 'Dolphins'),('Ravens', 'Browns'),('Bears', 'Commanders'),('Packers', 'Jaguars'),('Titans', 'Lions'),('Jets', 'Patriots'),('Colts', 'Texans'),('Saints', 'Chargers'),('Bills', 'Seahawks'),('Eagles', 'Bengals'),('Panthers', 'Broncos'),('Chiefs', 'Raiders'),('Cowboys', '49ers'),('Giants', 'Steelers'),\n",
      "('Texans', 'Jets'),('Saints', 'Panthers'),('Cowboys', 'Falcons'),('Patriots', 'Titans'),('Chargers', 'Browns'),('Commanders', 'Giants'),('Broncos', 'Ravens'),('Colts', 'Vikings'),('Raiders', 'Bengals'),('Dolphins', 'Bills'),('Bears', 'Cardinals'),('Lions', 'Packers'),('Rams', 'Seahawks'),('Jaguars', 'Eagles'),('Buccaneers', 'Chiefs'),\n",
      "('Bengals', 'Ravens'),('Giants', 'Panthers'),('49ers', 'Buccaneers'),('Patriots', 'Bears'),('Vikings', 'Jaguars'),('Steelers', 'Commanders'),('Broncos', 'Chiefs'),('Falcons', 'Saints'),('Bills', 'Colts'),('Titans', 'Chargers'),('Jets', 'Cardinals'),('Eagles', 'Cowboys'),('Lions', 'Texans'),('Dolphins', 'Rams'),\n",
      "('Commanders', 'Eagles'),('Rams', 'Patriots'),('Vikings', 'Titans'),('Packers', 'Bears'),('Jaguars', 'Lions'),('Raiders', 'Dolphins'),('Ravens', 'Steelers'),('Browns', 'Saints'),('Seahawks', '49ers'),('Falcons', 'Broncos'),('Chiefs', 'Bills'),('Bengals', 'Chargers'),('Colts', 'Jets'),('Texans', 'Cowboys'),\n",
      "('Steelers', 'Browns'),('Lions', 'Colts'),('Buccaneers', 'Giants'),('Vikings', 'Bears'),('Chiefs', 'Panthers'),('Cowboys', 'Commanders'),('Patriots', 'Dolphins'),('Titans', 'Texans'),('Broncos', 'Raiders'),('49ers', 'Packers'),('Cardinals', 'Seahawks'),('Eagles', 'Rams'),('Ravens', 'Chargers'),\n",
      "('Bears', 'Lions'),('Giants', 'Cowboys'),('Dolphins', 'Packers'),('Raiders', 'Chiefs'),('Colts', 'Patriots'),('Texans', 'Jaguars'),('Cardinals', 'Vikings'),('Chargers', 'Falcons'),('Seahawks', 'Jets'),('Titans', 'Commanders'),('Steelers', 'Bengals'),('Rams', 'Saints'),('Buccaneers', 'Panthers'),('Eagles', 'Ravens'),('49ers', 'Bills'),('Browns', 'Broncos'),\n",
      "('Packers', 'Lions'),('Browns', 'Steelers'),('Raiders', 'Buccaneers'),('Panthers', 'Eagles'),('Falcons', 'Vikings'),('Jets', 'Dolphins'),('Jaguars', 'Titans'),('Saints', 'Giants'),('Seahawks', 'Cardinals'),('Bills', 'Rams'),('Bears', '49ers'),('Chargers', 'Chiefs'),('Bengals', 'Cowboys'),\n",
      "}\n"
     ]
    }
   ],
   "source": [
    "with open('weeklysched.txt', 'r') as f:\n",
    "    print('nfl_schedule = {', end='')\n",
    "    for i, line in enumerate(f):\n",
    "        if 'Week' in line:\n",
    "            print()\n",
    "            continue\n",
    "        else:\n",
    "            teams = line.split()\n",
    "            print(f\"('{teams[0]}', '{teams[1]}'),\", end='')\n",
    "    print('\\n}')"
   ]
  },
  {
   "cell_type": "markdown",
   "metadata": {},
   "source": []
  }
 ],
 "metadata": {
  "kernelspec": {
   "display_name": "Python 3",
   "language": "python",
   "name": "python3"
  },
  "language_info": {
   "codemirror_mode": {
    "name": "ipython",
    "version": 3
   },
   "file_extension": ".py",
   "mimetype": "text/x-python",
   "name": "python",
   "nbconvert_exporter": "python",
   "pygments_lexer": "ipython3",
   "version": "3.11.9"
  }
 },
 "nbformat": 4,
 "nbformat_minor": 2
}
